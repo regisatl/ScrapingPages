{
 "cells": [
  {
   "cell_type": "code",
   "execution_count": 42,
   "id": "89150408-234e-401c-ab46-37ab40631df0",
   "metadata": {},
   "outputs": [],
   "source": [
    "import httpx\n",
    "from selectolax.parser import HTMLParser\n",
    "from urllib.parse import urljoin"
   ]
  },
  {
   "cell_type": "code",
   "execution_count": 43,
   "id": "188f406c-5c32-4cac-ba52-84d0228e5c0a",
   "metadata": {},
   "outputs": [],
   "source": [
    "def getHtml(base_url, page):\n",
    "    headers = {\"User-Agent\":\"Mozilla/5.0 (Windows NT 10.0; Win64; x64; rv:109.0) Gecko/20100101 Firefox/115.0\"}\n",
    "    \n",
    "    url = base_url + page\n",
    "    \n",
    "    response = httpx.get(url,follow_redirects = True)\n",
    "    html = HTMLParser(response.text)\n",
    "    \n",
    "    if html.css_first('div[data-supermodelid]') is None:\n",
    "        print(\"Dernière Page: Fin du Scrapping\")\n",
    "        return False\n",
    "    return html"
   ]
  },
  {
   "cell_type": "code",
   "execution_count": 55,
   "id": "c133847f-221c-4376-8769-e9d1572652a0",
   "metadata": {},
   "outputs": [],
   "source": [
    "def parseUrls(html):\n",
    "    produits = html.css('div[data-supermodelid]')\n",
    "    for produit in produits:\n",
    "        urljoin('https://www.decathlon.fr', produit.css_first(' a[class*=\"product-model-link\"]').attributes['href'])\n",
    "    print(len(produits))"
   ]
  },
  {
   "cell_type": "code",
   "execution_count": 58,
   "id": "fbdbd6bb-0547-44ad-8983-8e32857d65b1",
   "metadata": {},
   "outputs": [],
   "source": [
    "def main():\n",
    "    base_url = \"https://www.decathlon.fr/tous-les-sports/velo-cyclisme/velos\"\n",
    "    for x in range(0, 100):\n",
    "        print(f\"Go to Web Page:{url}?from=\"+ f\"{x * 40}&size=40\")\n",
    "        html = getHtml(base_url, page=f\"?from=\" + f\"{x * 40}&size=40\")\n",
    "        if html is False:\n",
    "            break\n",
    "        parseUrls(html)"
   ]
  },
  {
   "cell_type": "code",
   "execution_count": 60,
   "id": "dc9537f1-a72f-41ed-b3e2-72894318fd2b",
   "metadata": {},
   "outputs": [
    {
     "name": "stdout",
     "output_type": "stream",
     "text": [
      "Go to Web Page:https://www.decathlon.fr/tous-les-sports/velo-cyclisme/velos?from=0&size=40\n"
     ]
    },
    {
     "ename": "NameError",
     "evalue": "name 'urljoin' is not defined",
     "output_type": "error",
     "traceback": [
      "\u001b[1;31m---------------------------------------------------------------------------\u001b[0m",
      "\u001b[1;31mNameError\u001b[0m                                 Traceback (most recent call last)",
      "Cell \u001b[1;32mIn[60], line 2\u001b[0m\n\u001b[0;32m      1\u001b[0m \u001b[38;5;28;01mif\u001b[39;00m \u001b[38;5;18m__name__\u001b[39m\u001b[38;5;241m==\u001b[39m\u001b[38;5;124m\"\u001b[39m\u001b[38;5;124m__main__\u001b[39m\u001b[38;5;124m\"\u001b[39m:\n\u001b[1;32m----> 2\u001b[0m     \u001b[43mmain\u001b[49m\u001b[43m(\u001b[49m\u001b[43m)\u001b[49m\n",
      "Cell \u001b[1;32mIn[58], line 9\u001b[0m, in \u001b[0;36mmain\u001b[1;34m()\u001b[0m\n\u001b[0;32m      6\u001b[0m \u001b[38;5;28;01mif\u001b[39;00m html \u001b[38;5;129;01mis\u001b[39;00m \u001b[38;5;28;01mFalse\u001b[39;00m:\n\u001b[0;32m      7\u001b[0m     \u001b[38;5;28;01mbreak\u001b[39;00m\n\u001b[1;32m----> 9\u001b[0m \u001b[43mparseUrls\u001b[49m\u001b[43m(\u001b[49m\u001b[43mhtml\u001b[49m\u001b[43m)\u001b[49m\n",
      "Cell \u001b[1;32mIn[55], line 4\u001b[0m, in \u001b[0;36mparseUrls\u001b[1;34m(html)\u001b[0m\n\u001b[0;32m      2\u001b[0m produits \u001b[38;5;241m=\u001b[39m html\u001b[38;5;241m.\u001b[39mcss(\u001b[38;5;124m'\u001b[39m\u001b[38;5;124mdiv[data-supermodelid]\u001b[39m\u001b[38;5;124m'\u001b[39m)\n\u001b[0;32m      3\u001b[0m \u001b[38;5;28;01mfor\u001b[39;00m produit \u001b[38;5;129;01min\u001b[39;00m produits:\n\u001b[1;32m----> 4\u001b[0m     \u001b[43murljoin\u001b[49m(\u001b[38;5;124m'\u001b[39m\u001b[38;5;124mhttps://www.decathlon.fr\u001b[39m\u001b[38;5;124m'\u001b[39m, produit\u001b[38;5;241m.\u001b[39mcss_first(\u001b[38;5;124m'\u001b[39m\u001b[38;5;124m a[class*=\u001b[39m\u001b[38;5;124m\"\u001b[39m\u001b[38;5;124mproduct-model-link\u001b[39m\u001b[38;5;124m\"\u001b[39m\u001b[38;5;124m]\u001b[39m\u001b[38;5;124m'\u001b[39m)\u001b[38;5;241m.\u001b[39mattributes[\u001b[38;5;124m'\u001b[39m\u001b[38;5;124mhref\u001b[39m\u001b[38;5;124m'\u001b[39m])\n\u001b[0;32m      5\u001b[0m \u001b[38;5;28mprint\u001b[39m(\u001b[38;5;28mlen\u001b[39m(produit))\n",
      "\u001b[1;31mNameError\u001b[0m: name 'urljoin' is not defined"
     ]
    }
   ],
   "source": [
    "if __name__==\"__main__\":\n",
    "    main()"
   ]
  },
  {
   "cell_type": "code",
   "execution_count": null,
   "id": "3b7f9a2d-d39b-4704-9622-6bfc849089f2",
   "metadata": {},
   "outputs": [],
   "source": []
  }
 ],
 "metadata": {
  "kernelspec": {
   "display_name": "Python 3 (ipykernel)",
   "language": "python",
   "name": "python3"
  },
  "language_info": {
   "codemirror_mode": {
    "name": "ipython",
    "version": 3
   },
   "file_extension": ".py",
   "mimetype": "text/x-python",
   "name": "python",
   "nbconvert_exporter": "python",
   "pygments_lexer": "ipython3",
   "version": "3.11.4"
  }
 },
 "nbformat": 4,
 "nbformat_minor": 5
}
