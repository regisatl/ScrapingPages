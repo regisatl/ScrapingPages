{
 "cells": [
  {
   "cell_type": "code",
   "execution_count": null,
   "id": "89150408-234e-401c-ab46-37ab40631df0",
   "metadata": {},
   "outputs": [],
   "source": [
    "import httpx\n",
    "from selctolax.parser import HTMLParser"
   ]
  },
  {
   "cell_type": "code",
   "execution_count": 16,
   "id": "188f406c-5c32-4cac-ba52-84d0228e5c0a",
   "metadata": {},
   "outputs": [],
   "source": [
    "def getHtml(base_url, page):\n",
    "    response = httpx.get(url)\n",
    "    print(response.status_code)\n",
    "    html = HTMLParser(response.text)"
   ]
  },
  {
   "cell_type": "code",
   "execution_count": 13,
   "id": "c133847f-221c-4376-8769-e9d1572652a0",
   "metadata": {},
   "outputs": [],
   "source": [
    "    produits = html.css('div[data-supermodelid]')\n",
    "    for produit in produits:\n",
    "        produit.css_first(' a[class*=\"product-model-link\"]').attributes['href']"
   ]
  },
  {
   "cell_type": "code",
   "execution_count": 21,
   "id": "fbdbd6bb-0547-44ad-8983-8e32857d65b1",
   "metadata": {},
   "outputs": [
    {
     "ename": "SyntaxError",
     "evalue": "f-string: unmatched ')' (3892556414.py, line 5)",
     "output_type": "error",
     "traceback": [
      "\u001b[1;36m  Cell \u001b[1;32mIn[21], line 5\u001b[1;36m\u001b[0m\n\u001b[1;33m    html = getHtml(base_url, page=f\"?from=\" + f\"{x * 40)&size=40\")\u001b[0m\n\u001b[1;37m                                                                 ^\u001b[0m\n\u001b[1;31mSyntaxError\u001b[0m\u001b[1;31m:\u001b[0m f-string: unmatched ')'\n"
     ]
    }
   ],
   "source": [
    "def main():\n",
    "    base_url = \"https://www.decathlon.fr/tous-les-sports/velo-cyclisme/velos\"\n",
    "    for x in range(0, 10):\n",
    "        print(f\"Go to Web Page:{url}?from=\"+ f\"{x * 40}&size=40\")\n",
    "        html = getHtml(base_url, page=f\"?from=\" + f\"{x * 40}&size=40\")"
   ]
  },
  {
   "cell_type": "code",
   "execution_count": 20,
   "id": "dc9537f1-a72f-41ed-b3e2-72894318fd2b",
   "metadata": {},
   "outputs": [
    {
     "name": "stdout",
     "output_type": "stream",
     "text": [
      "Go to Web Page:https://www.decathlon.fr/tous-les-sports/velo-cyclisme/velos?from=0&size=40\n",
      "Go to Web Page:https://www.decathlon.fr/tous-les-sports/velo-cyclisme/velos?from=40&size=40\n",
      "Go to Web Page:https://www.decathlon.fr/tous-les-sports/velo-cyclisme/velos?from=80&size=40\n",
      "Go to Web Page:https://www.decathlon.fr/tous-les-sports/velo-cyclisme/velos?from=120&size=40\n",
      "Go to Web Page:https://www.decathlon.fr/tous-les-sports/velo-cyclisme/velos?from=160&size=40\n",
      "Go to Web Page:https://www.decathlon.fr/tous-les-sports/velo-cyclisme/velos?from=200&size=40\n",
      "Go to Web Page:https://www.decathlon.fr/tous-les-sports/velo-cyclisme/velos?from=240&size=40\n",
      "Go to Web Page:https://www.decathlon.fr/tous-les-sports/velo-cyclisme/velos?from=280&size=40\n",
      "Go to Web Page:https://www.decathlon.fr/tous-les-sports/velo-cyclisme/velos?from=320&size=40\n",
      "Go to Web Page:https://www.decathlon.fr/tous-les-sports/velo-cyclisme/velos?from=360&size=40\n"
     ]
    }
   ],
   "source": [
    "if __name__==\"__main__\":\n",
    "    main()"
   ]
  }
 ],
 "metadata": {
  "kernelspec": {
   "display_name": "Python 3 (ipykernel)",
   "language": "python",
   "name": "python3"
  },
  "language_info": {
   "codemirror_mode": {
    "name": "ipython",
    "version": 3
   },
   "file_extension": ".py",
   "mimetype": "text/x-python",
   "name": "python",
   "nbconvert_exporter": "python",
   "pygments_lexer": "ipython3",
   "version": "3.11.4"
  }
 },
 "nbformat": 4,
 "nbformat_minor": 5
}
